{
 "cells": [
  {
   "cell_type": "code",
   "execution_count": 1,
   "id": "ff60671a",
   "metadata": {},
   "outputs": [],
   "source": [
    "import pandas as pd"
   ]
  },
  {
   "cell_type": "code",
   "execution_count": null,
   "id": "cd7152a6",
   "metadata": {},
   "outputs": [],
   "source": [
    "df = pd.read_csv(\"https://raw.githubusercontent.com/Yorko/mlcourse.ai/refs/heads/main/data/adult.data.csv\")"
   ]
  },
  {
   "cell_type": "code",
   "execution_count": null,
   "id": "6d37021c",
   "metadata": {},
   "outputs": [],
   "source": [
    "df.head()"
   ]
  },
  {
   "cell_type": "code",
   "execution_count": null,
   "id": "6b6569f4",
   "metadata": {},
   "outputs": [],
   "source": [
    "df.info()"
   ]
  },
  {
   "cell_type": "code",
   "execution_count": null,
   "id": "ce27d923",
   "metadata": {},
   "outputs": [],
   "source": [
    "df.columns"
   ]
  },
  {
   "cell_type": "code",
   "execution_count": null,
   "id": "981f3c62",
   "metadata": {},
   "outputs": [],
   "source": [
    "df['sex'].value_counts()"
   ]
  },
  {
   "cell_type": "code",
   "execution_count": null,
   "id": "883ceee4",
   "metadata": {},
   "outputs": [],
   "source": [
    "df['sex'].unique()"
   ]
  },
  {
   "cell_type": "code",
   "execution_count": null,
   "id": "2c6abc24",
   "metadata": {},
   "outputs": [],
   "source": [
    "df[df['sex']=='Female']['age'].mean()"
   ]
  },
  {
   "cell_type": "code",
   "execution_count": null,
   "id": "e4024ca6",
   "metadata": {},
   "outputs": [],
   "source": [
    "len(df[df['native-country']==\"Germany\"])"
   ]
  },
  {
   "cell_type": "code",
   "execution_count": null,
   "id": "26d951a1",
   "metadata": {},
   "outputs": [],
   "source": [
    "len(df)"
   ]
  },
  {
   "cell_type": "code",
   "execution_count": null,
   "id": "b3e356b3",
   "metadata": {},
   "outputs": [],
   "source": [
    "len(df[df['native-country']==\"Germany\"])/len(df)"
   ]
  },
  {
   "cell_type": "code",
   "execution_count": null,
   "id": "0fe29690",
   "metadata": {},
   "outputs": [],
   "source": [
    "df['salary'].value_counts()"
   ]
  },
  {
   "cell_type": "code",
   "execution_count": null,
   "id": "963dd928",
   "metadata": {},
   "outputs": [],
   "source": [
    "df[df['salary']==\">50K\"]['age'].describe()"
   ]
  },
  {
   "cell_type": "code",
   "execution_count": null,
   "id": "b1e7df67",
   "metadata": {},
   "outputs": [],
   "source": [
    "df[df['salary']==\"<=50K\"]['age'].describe()"
   ]
  },
  {
   "cell_type": "code",
   "execution_count": null,
   "id": "68ed6913",
   "metadata": {},
   "outputs": [],
   "source": [
    "df[df['salary']==\">50K\"][\"education\"].value_counts()"
   ]
  },
  {
   "cell_type": "code",
   "execution_count": null,
   "id": "7f86f61f",
   "metadata": {},
   "outputs": [],
   "source": [
    "df['race'].value_counts()"
   ]
  },
  {
   "cell_type": "code",
   "execution_count": null,
   "id": "05f78b51",
   "metadata": {},
   "outputs": [],
   "source": [
    "max(df[df['race']=='Amer-Indian-Eskimo'][\"age\"])"
   ]
  },
  {
   "cell_type": "code",
   "execution_count": null,
   "id": "eb8669b6",
   "metadata": {},
   "outputs": [],
   "source": [
    "df[df['sex']==\"Male\"][\"marital-status\"].unique()"
   ]
  },
  {
   "cell_type": "code",
   "execution_count": null,
   "id": "c8241aca",
   "metadata": {},
   "outputs": [],
   "source": [
    "len(df[(df['sex'] == \"Male\") & (df['marital-status'].isin([\"Married-civ-spouse\", \"Married-spouse-absent\", \"Married-AF-spouse\"])) & (df[\"salary\"]==\">50K\")])"
   ]
  },
  {
   "cell_type": "code",
   "execution_count": null,
   "id": "52a3c7eb",
   "metadata": {},
   "outputs": [],
   "source": [
    "len(df[(df['sex'] == \"Male\") & (df['marital-status'].isin([\"Never-married\", \"Divorced\", \"Separated\", \"Widowed\"])) & (df[\"salary\"]==\">50K\")])"
   ]
  },
  {
   "cell_type": "code",
   "execution_count": null,
   "id": "f71a2354",
   "metadata": {},
   "outputs": [],
   "source": [
    "max(df['hours-per-week'])"
   ]
  },
  {
   "cell_type": "code",
   "execution_count": null,
   "id": "25398e07",
   "metadata": {},
   "outputs": [],
   "source": [
    "len(df[df['hours-per-week']==99])"
   ]
  },
  {
   "cell_type": "code",
   "execution_count": null,
   "id": "954ee11f",
   "metadata": {},
   "outputs": [],
   "source": [
    "len(df[(df['hours-per-week']==99)&(df[\"salary\"]==\">50K\")])/len(df[df['hours-per-week']==99])"
   ]
  },
  {
   "cell_type": "code",
   "execution_count": null,
   "id": "d4e02739",
   "metadata": {
    "scrolled": false
   },
   "outputs": [],
   "source": [
    "df[(df[\"native-country\"]==\"Japan\")&(df[\"salary\"]==\"<=50K\")][\"hours-per-week\"].mean()"
   ]
  },
  {
   "cell_type": "code",
   "execution_count": null,
   "id": "84446953",
   "metadata": {},
   "outputs": [],
   "source": [
    "df[(df[\"native-country\"]==\"Japan\")&(df[\"salary\"]==\">50K\")][\"hours-per-week\"].mean()"
   ]
  },
  {
   "cell_type": "code",
   "execution_count": null,
   "id": "dd34a1eb",
   "metadata": {},
   "outputs": [],
   "source": []
  },
  {
   "cell_type": "code",
   "execution_count": null,
   "id": "7e69073b",
   "metadata": {},
   "outputs": [],
   "source": []
  }
 ],
 "metadata": {
  "kernelspec": {
   "display_name": "Python 3 (ipykernel)",
   "language": "python",
   "name": "python3"
  },
  "language_info": {
   "codemirror_mode": {
    "name": "ipython",
    "version": 3
   },
   "file_extension": ".py",
   "mimetype": "text/x-python",
   "name": "python",
   "nbconvert_exporter": "python",
   "pygments_lexer": "ipython3",
   "version": "3.11.4"
  }
 },
 "nbformat": 4,
 "nbformat_minor": 5
}
